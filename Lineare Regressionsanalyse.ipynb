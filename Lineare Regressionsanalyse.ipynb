{
 "cells": [
  {
   "cell_type": "markdown",
   "metadata": {},
   "source": [
    "# Daten Importieren"
   ]
  },
  {
   "cell_type": "code",
   "execution_count": 1,
   "metadata": {},
   "outputs": [],
   "source": [
    "import pandas as pd"
   ]
  },
  {
   "cell_type": "code",
   "execution_count": 2,
   "metadata": {},
   "outputs": [],
   "source": [
    "# Datensatz der VW-Aktienkurshistorie über Pandas laden\n",
    "dataset = pd.read_csv(\"VOW3.DE_max.csv\")"
   ]
  },
  {
   "cell_type": "code",
   "execution_count": 3,
   "metadata": {},
   "outputs": [],
   "source": [
    "# Die neusten 120 Einträge des Datensatzes übernehmen\n",
    "dataset = dataset.tail(120)"
   ]
  },
  {
   "cell_type": "markdown",
   "metadata": {},
   "source": [
    "# Lineare Regressionsanalyse"
   ]
  },
  {
   "cell_type": "markdown",
   "metadata": {},
   "source": [
    "## Imports"
   ]
  },
  {
   "cell_type": "code",
   "execution_count": 4,
   "metadata": {},
   "outputs": [],
   "source": [
    "from sklearn.metrics import mean_squared_error, r2_score\n",
    "from sklearn import datasets, linear_model\n",
    "import time\n",
    "import datetime\n",
    "import matplotlib.pyplot as plt\n",
    "import numpy as np"
   ]
  },
  {
   "cell_type": "markdown",
   "metadata": {},
   "source": [
    "## Datenaufbreitung (Daten konvertieren und in numpy-Arrays laden)"
   ]
  },
  {
   "cell_type": "code",
   "execution_count": 5,
   "metadata": {},
   "outputs": [],
   "source": [
    "# Deklaration der zu befüllenden Arrays\n",
    "stocks_X = []\n",
    "stocks_Y = []\n",
    "\n",
    "# Datenaufbereitung\n",
    "for index, row in dataset.iterrows():\n",
    "    # Konvertierung des Datums in passendes Format\n",
    "    element = datetime.datetime.strptime(row['Date'],\"%Y-%m-%d\")\n",
    "    timestamp = datetime.datetime.timestamp(element)\n",
    "    #Abspeichern des kovertierten Datums und dem Preis in neuen Arrays\n",
    "    stocks_X.append([timestamp]) \n",
    "    stocks_Y.append([row['Close']])\n",
    "\n",
    "# Abspeichern der Daten in einem numpy-Array\n",
    "stocks_X = np.array(stocks_X)\n",
    "stocks_Y = np.array(stocks_Y)\n",
    "\n",
    "# Letzte 30 Einträge zum Testen in separates Array\n",
    "stocks_X_test = stocks_X[-30:]\n",
    "stocks_Y_test = stocks_Y[-30:]\n",
    "\n",
    "# Restliche Einträge zum Trainieren in separates Array\n",
    "stocks_X_train = stocks_X[:-30]\n",
    "stocks_Y_train = stocks_Y[:-30]"
   ]
  },
  {
   "cell_type": "markdown",
   "metadata": {},
   "source": [
    "## Regression"
   ]
  },
  {
   "cell_type": "code",
   "execution_count": 6,
   "metadata": {},
   "outputs": [
    {
     "name": "stdout",
     "output_type": "stream",
     "text": [
      "Regressionskoeffizient: \n",
      " [[2.27277355e-06]]\n",
      "Mittlere quadratische Abweichung: 643.79\n",
      "Bestimmtheitsmaß: -0.73\n"
     ]
    }
   ],
   "source": [
    "# Lineares Regressions-Objekt erstellen\n",
    "regr = linear_model.LinearRegression()\n",
    "\n",
    "# Model basierend auf Trainings-Datensatz trainieren\n",
    "regr.fit(stocks_X_train, stocks_Y_train)\n",
    "\n",
    "# Vorhersagen für die Testdatensätze treffen\n",
    "stocks_Y_pred = regr.predict(stocks_X_test)\n",
    "stocks_Y_pred_train = regr.predict(stocks_X_train)\n",
    "\n",
    "# Ausgabe verschiedener Parameter zur Auswertung\n",
    "print('Regressionskoeffizient: \\n', regr.coef_)\n",
    "print('Mittlere quadratische Abweichung: %.2f'\n",
    "      % mean_squared_error(stocks_Y_test, stocks_Y_pred))\n",
    "print('Bestimmtheitsmaß: %.2f'\n",
    "      % r2_score(stocks_Y_test, stocks_Y_pred))"
   ]
  },
  {
   "cell_type": "markdown",
   "metadata": {},
   "source": [
    "## Plotten"
   ]
  },
  {
   "cell_type": "markdown",
   "metadata": {},
   "source": [
    "### Umwandeln der Timestamps zu Datumsobjekten"
   ]
  },
  {
   "cell_type": "code",
   "execution_count": 7,
   "metadata": {},
   "outputs": [],
   "source": [
    "# Umwandeln der Timestamps zu Datumsobjekten\n",
    "stocks_X_train=[datetime.datetime.fromtimestamp(ts[0]) for ts in stocks_X_train]\n",
    "stocks_X_test=[datetime.datetime.fromtimestamp(ts[0]) for ts in stocks_X_test]\n",
    "stocks_X=[datetime.datetime.fromtimestamp(ts[0]) for ts in stocks_X]"
   ]
  },
  {
   "cell_type": "markdown",
   "metadata": {},
   "source": [
    "### Plotten"
   ]
  },
  {
   "cell_type": "code",
   "execution_count": 8,
   "metadata": {},
   "outputs": [
    {
     "data": {
      "image/png": "[encoded data removed]",
      "text/plain": [
       "<Figure size 432x288 with 1 Axes>"
      ]
     },
     "metadata": {
      "needs_background": "light"
     },
     "output_type": "display_data"
    }
   ],
   "source": [
    "%matplotlib inline\n",
    "\n",
    "# Plotten der Datenpunkte\n",
    "plt.scatter(stocks_X, stocks_Y, 10, color='black', alpha=1)\n",
    "\n",
    "# Plotten der Regressionsgerade der Trainingsdaten in grün\n",
    "plt.plot(stocks_X_train, stocks_Y_pred_train, color='green', linewidth=2.5)\n",
    "\n",
    "# Plotten der Vorhersage in rot\n",
    "plt.plot(stocks_X_test, stocks_Y_pred, color='red', linewidth=2.5)\n",
    "\n",
    "# Wertebereich anpassen\n",
    "plt.xlim(min(stocks_X),max(stocks_X))\n",
    "plt.ylim(min(stocks_Y),max(stocks_Y))\n",
    "\n",
    "# Achsenbeschriftung\n",
    "plt.ylabel(\"Preis\")\n",
    "plt.xlabel(\"Zeit\")\n",
    "\n",
    "# Ausgabe des Plots\n",
    "plt.show()"
   ]
  }
 ],
 "metadata": {
  "kernelspec": {
   "display_name": "Python 3",
   "language": "python",
   "name": "python3"
  },
  "language_info": {
   "codemirror_mode": {
    "name": "ipython",
    "version": 3
   },
   "file_extension": ".py",
   "mimetype": "text/x-python",
   "name": "python",
   "nbconvert_exporter": "python",
   "pygments_lexer": "ipython3",
   "version": "3.8.5"
  }
 },
 "nbformat": 4,
 "nbformat_minor": 4
}
