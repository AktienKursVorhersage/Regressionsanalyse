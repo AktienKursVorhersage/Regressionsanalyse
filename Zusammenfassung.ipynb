{
 "cells": [
  {
   "cell_type": "markdown",
   "metadata": {},
   "source": [
    "# Zusammenfassung"
   ]
  },
  {
   "cell_type": "markdown",
   "metadata": {},
   "source": [
    "## Ergebnisse"
   ]
  },
  {
   "cell_type": "markdown",
   "metadata": {},
   "source": [
    "Lineare Regression        |  Polynomiale Regression\n",
    ":-------------------------:|:-------------------------:\n",
    "![Lineare Regression](img/linear.png)  |  ![Polynomiale Regression](img/poly.png)"
   ]
  },
  {
   "cell_type": "markdown",
   "metadata": {},
   "source": [
    "Zeitreihenanalyse mit Tagesvorhersage         |  Zeitreihenanalyse mit Monatsvorhersage\n",
    ":-------------------------:|:-------------------------:\n",
    "![Lineare Regression](img/linear.png)  |  ![Polynomiale Regression](img/poly.png)"
   ]
  },
  {
   "cell_type": "markdown",
   "metadata": {},
   "source": [
    "## Vergleich verschiedener Ansätze"
   ]
  },
  {
   "cell_type": "markdown",
   "metadata": {},
   "source": [
    "|     | Lineare Regression | Polynomiale Regression | Zeitreihenanalyse (Tagesabhängig) | Zeitreihenanalyse (Monatsabhängig) |\n",
    "|:---|:---:|:---:|:---:|:---:|\n",
    "| **MSE** | 959,436            | 730,269                | 8,765                             | 120,847                            |\n",
    "| **MAE** | 25,832             | 19,820                 | 2,041                             | 8,102                              |\n",
    "| **R2**  | 0,714              | 0,782                  | 0,972                             | 0,579                              |"
   ]
  }
 ],
 "metadata": {
  "kernelspec": {
   "display_name": "Python 3",
   "language": "python",
   "name": "python3"
  },
  "language_info": {
   "codemirror_mode": {
    "name": "ipython",
    "version": 3
   },
   "file_extension": ".py",
   "mimetype": "text/x-python",
   "name": "python",
   "nbconvert_exporter": "python",
   "pygments_lexer": "ipython3",
   "version": "3.8.5"
  }
 },
 "nbformat": 4,
 "nbformat_minor": 4
}
