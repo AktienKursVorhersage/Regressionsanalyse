{
 "cells": [
  {
   "cell_type": "markdown",
   "metadata": {},
   "source": [
    "# Daten Importieren"
   ]
  },
  {
   "cell_type": "code",
   "execution_count": 1,
   "metadata": {},
   "outputs": [],
   "source": [
    "import pandas as pd"
   ]
  },
  {
   "cell_type": "code",
   "execution_count": 2,
   "metadata": {},
   "outputs": [],
   "source": [
    "# Datensatz der VW-Aktienkurshistorie über Pandas laden\n",
    "dataset = pd.read_csv(\"VOW3.DE_max.csv\")"
   ]
  },
  {
   "cell_type": "code",
   "execution_count": 3,
   "metadata": {},
   "outputs": [],
   "source": [
    "# Die neusten 90 Einträge des Datensatzes übernehmen (optional)\n",
    "#dataset = dataset.tail(90)"
   ]
  },
  {
   "cell_type": "markdown",
   "metadata": {},
   "source": [
    "# Polynomiale Regressionsanalyse"
   ]
  },
  {
   "cell_type": "markdown",
   "metadata": {},
   "source": [
    "## Imports"
   ]
  },
  {
   "cell_type": "code",
   "execution_count": 4,
   "metadata": {},
   "outputs": [],
   "source": [
    "from sklearn.metrics import mean_squared_error, mean_absolute_error, r2_score\n",
    "from sklearn import datasets, linear_model, model_selection\n",
    "from sklearn.pipeline import Pipeline\n",
    "from sklearn.preprocessing import PolynomialFeatures\n",
    "import time\n",
    "import datetime\n",
    "import matplotlib.pyplot as plt\n",
    "import numpy as np"
   ]
  },
  {
   "cell_type": "markdown",
   "metadata": {},
   "source": [
    "## Datenaufbreitung (Daten konvertieren und in numpy-Arrays laden)"
   ]
  },
  {
   "cell_type": "code",
   "execution_count": 5,
   "metadata": {},
   "outputs": [],
   "source": [
    "# Deklaration der zu befüllenden Arrays\n",
    "stocks_X = np.empty(shape=[0, 1])\n",
    "stocks_Y = np.empty(shape=[0, 1])\n",
    "\n",
    "# Datenaufbereitung\n",
    "for index, row in dataset.iterrows():\n",
    "    # Konvertierung des Datums in passendes Format\n",
    "    element = datetime.datetime.strptime(row['Date'],\"%Y-%m-%d\")\n",
    "    timestamp = datetime.datetime.timestamp(element)\n",
    "    #Abspeichern des kovertierten Datums und dem Preis in neuen Arrays\n",
    "    stocks_X = np.append(stocks_X, [[timestamp]], 0)\n",
    "    stocks_Y = np.append(stocks_Y, [[row['Close']]], 0)\n",
    "\n",
    "# Letzte 1161 Einträge zum Testen in separates Array\n",
    "stocks_X_test = stocks_X[-1161:]\n",
    "stocks_Y_test = stocks_Y[-1161:]\n",
    "\n",
    "# Restliche Einträge zum Berechnen der Regressionsgerade in separates Array\n",
    "stocks_X_train = stocks_X[:-1161]\n",
    "stocks_Y_train = stocks_Y[:-1161]"
   ]
  },
  {
   "cell_type": "markdown",
   "metadata": {},
   "source": [
    "## Regression"
   ]
  },
  {
   "cell_type": "code",
   "execution_count": 6,
   "metadata": {},
   "outputs": [],
   "source": [
    "# Setzen der Polynomial-Features\n",
    "poly_features = PolynomialFeatures(degree=2)\n",
    "\n",
    "# Vorbereiten der Polynomialen Regression\n",
    "regr = linear_model.LinearRegression()\n",
    "pipeline = Pipeline([(\"polynomial_features\", poly_features),\n",
    "                     (\"linear_regression\", regr)])\n",
    "pipeline.fit(stocks_X_train, stocks_Y_train)\n",
    "\n",
    "# Ausführen der Polynomialen Regression\n",
    "stocks_Y_pred = pipeline.predict(stocks_X_test)\n",
    "stocks_Y_pred_train = pipeline.predict(stocks_X_train)"
   ]
  },
  {
   "cell_type": "markdown",
   "metadata": {},
   "source": [
    "## Plot"
   ]
  },
  {
   "cell_type": "markdown",
   "metadata": {},
   "source": [
    "### Umwandeln der Timestamps zu Datumsobjekten"
   ]
  },
  {
   "cell_type": "code",
   "execution_count": 7,
   "metadata": {
    "scrolled": false
   },
   "outputs": [],
   "source": [
    "# Umwandeln der Timestamps zu Datumsobjekten\n",
    "stocks_X_train=[datetime.datetime.fromtimestamp(ts[0]) for ts in stocks_X_train]\n",
    "stocks_X_test=[datetime.datetime.fromtimestamp(ts[0]) for ts in stocks_X_test]\n",
    "stocks_X=[datetime.datetime.fromtimestamp(ts[0]) for ts in stocks_X]"
   ]
  },
  {
   "cell_type": "markdown",
   "metadata": {},
   "source": [
    "### Plotten"
   ]
  },
  {
   "cell_type": "code",
   "execution_count": 8,
   "metadata": {
    "scrolled": true
   },
   "outputs": [
    {
     "data": {
      "image/png": "[encoded data removed]",
      "text/plain": [
       "<Figure size 432x288 with 1 Axes>"
      ]
     },
     "metadata": {
      "needs_background": "light"
     },
     "output_type": "display_data"
    }
   ],
   "source": [
    "%matplotlib inline\n",
    "\n",
    "# Plotten der Datenpunkte\n",
    "plt.scatter(stocks_X, stocks_Y, 2.5, color='black', alpha=1)\n",
    "\n",
    "# Plotten der Regressionskurve der Trainingsdaten in grün\n",
    "plt.plot(stocks_X_train, stocks_Y_pred_train, color='green', linewidth=2.5)\n",
    "\n",
    "# Plotten der Vorhersage in rot\n",
    "plt.plot(stocks_X_test, stocks_Y_pred, color='red', linewidth=2.5)\n",
    "    \n",
    "# Wertebereich anpassen\n",
    "plt.xlim(min(stocks_X),max(stocks_X))\n",
    "plt.ylim(min(stocks_Y),max(stocks_Y_pred))\n",
    "\n",
    "# Achsenbeschriftung\n",
    "plt.ylabel(\"Preis\")\n",
    "plt.xlabel(\"Zeit\")\n",
    "\n",
    "# Ausgabe des Plots\n",
    "plt.show()"
   ]
  },
  {
   "cell_type": "markdown",
   "metadata": {},
   "source": [
    "## Evaluation"
   ]
  },
  {
   "cell_type": "markdown",
   "metadata": {},
   "source": [
    "### Mittlere quadratische Abweichung"
   ]
  },
  {
   "cell_type": "code",
   "execution_count": 9,
   "metadata": {},
   "outputs": [
    {
     "name": "stdout",
     "output_type": "stream",
     "text": [
      "Mean squared error: 730.269\n"
     ]
    }
   ],
   "source": [
    "print(\"Mean squared error: %.3f\" % (mean_squared_error(stocks_Y_train, stocks_Y_pred_train)))"
   ]
  },
  {
   "cell_type": "markdown",
   "metadata": {},
   "source": [
    "### Mittlerer absoluter Fehler"
   ]
  },
  {
   "cell_type": "code",
   "execution_count": 10,
   "metadata": {},
   "outputs": [
    {
     "name": "stdout",
     "output_type": "stream",
     "text": [
      "Mean absolute error: 19.820\n"
     ]
    }
   ],
   "source": [
    "print(\"Mean absolute error: %.3f\" % (mean_absolute_error(stocks_Y_train, stocks_Y_pred_train)))"
   ]
  },
  {
   "cell_type": "markdown",
   "metadata": {},
   "source": [
    "### Bestimmtheitsmaß"
   ]
  },
  {
   "cell_type": "code",
   "execution_count": 11,
   "metadata": {},
   "outputs": [
    {
     "name": "stdout",
     "output_type": "stream",
     "text": [
      "R^2: 0.782\n"
     ]
    }
   ],
   "source": [
    "print(\"R^2: %.3f\" % (r2_score(stocks_Y_train, stocks_Y_pred_train)))"
   ]
  },
  {
   "cell_type": "markdown",
   "metadata": {},
   "source": [
    "### Fazit"
   ]
  },
  {
   "cell_type": "markdown",
   "metadata": {},
   "source": [
    "Das Fazit bei einer Polynomialen Regression ähnelt sehr stark den Ergebnissen der Linearen Regression. Sie führt ebenfalls nur Vergangenheitswerte fort und ist daher kein zuverlässiges Indiz für die zukünftige Entwicklung des Aktienkurses, kann allerdings trotzdem die Tendenz der bisherigen Kursentwicklung darstellen. In diesem Fall liegen die Vorhersagen zu den Datensätzen, welche auch für die Lineare Regression verwendet wurden, noch weiter über den tatsächlich eingetragenen Werten."
   ]
  }
 ],
 "metadata": {
  "kernelspec": {
   "display_name": "Python 3",
   "language": "python",
   "name": "python3"
  },
  "language_info": {
   "codemirror_mode": {
    "name": "ipython",
    "version": 3
   },
   "file_extension": ".py",
   "mimetype": "text/x-python",
   "name": "python",
   "nbconvert_exporter": "python",
   "pygments_lexer": "ipython3",
   "version": "3.8.5"
  }
 },
 "nbformat": 4,
 "nbformat_minor": 4
}
