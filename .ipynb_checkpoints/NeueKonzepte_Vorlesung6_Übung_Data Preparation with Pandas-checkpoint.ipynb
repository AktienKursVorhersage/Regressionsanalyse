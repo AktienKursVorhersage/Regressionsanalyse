{
 "cells": [
  {
   "cell_type": "markdown",
   "metadata": {},
   "source": [
    "# Data Selection & Preparation"
   ]
  },
  {
   "cell_type": "markdown",
   "metadata": {},
   "source": [
    "## Pandas Data Structures"
   ]
  },
  {
   "cell_type": "markdown",
   "metadata": {},
   "source": [
    "### Series"
   ]
  },
  {
   "cell_type": "code",
   "execution_count": 4,
   "metadata": {},
   "outputs": [
    {
     "name": "stdout",
     "output_type": "stream",
     "text": [
      "Canada          35\n",
      "France          66\n",
      "Netherlands     17\n",
      "UK              64\n",
      "US             318\n",
      "dtype: int64\n"
     ]
    }
   ],
   "source": [
    "from pandas import DataFrame, read_csv\n",
    "import matplotlib.pyplot as plt\n",
    "import pandas as pd \n",
    " \n",
    "d = { 'Netherlands': 17, 'US': 318, 'Canada': 35, 'France': 66,'UK': 64}\n",
    "population = pd.Series(d)\n",
    "print(population)"
   ]
  },
  {
   "cell_type": "code",
   "execution_count": 5,
   "metadata": {},
   "outputs": [
    {
     "name": "stdout",
     "output_type": "stream",
     "text": [
      "318\n"
     ]
    }
   ],
   "source": [
    "#filter for single value\n",
    "print(population['US'])"
   ]
  },
  {
   "cell_type": "code",
   "execution_count": 6,
   "metadata": {},
   "outputs": [
    {
     "name": "stdout",
     "output_type": "stream",
     "text": [
      "US        318\n",
      "Canada     35\n",
      "UK         64\n",
      "dtype: int64\n"
     ]
    }
   ],
   "source": [
    "#get subsets\n",
    "print(population[['US','Canada','UK']])"
   ]
  },
  {
   "cell_type": "code",
   "execution_count": 7,
   "metadata": {},
   "outputs": [
    {
     "name": "stdout",
     "output_type": "stream",
     "text": [
      "France     66\n",
      "UK         64\n",
      "US        318\n",
      "dtype: int64\n"
     ]
    }
   ],
   "source": [
    "#filter with operators\n",
    "print(population[population > 60])"
   ]
  },
  {
   "cell_type": "markdown",
   "metadata": {},
   "source": [
    "### Data Frames"
   ]
  },
  {
   "cell_type": "code",
   "execution_count": 8,
   "metadata": {},
   "outputs": [
    {
     "name": "stdout",
     "output_type": "stream",
     "text": [
      "     name  occupation\n",
      "0     Bob      Lawyer\n",
      "1    Bart  Programmer\n",
      "2   Bobby     Teacher\n",
      "3   David      Lawyer\n",
      "4  Muster     Teacher\n"
     ]
    }
   ],
   "source": [
    "from pandas import DataFrame, read_csv\n",
    "import matplotlib.pyplot as plt\n",
    "import pandas as pd \n",
    " \n",
    "d = { 'name': ['Bob','Bart','Bobby','David','Muster'],\n",
    "      'occupation': ['Lawyer','Programmer','Teacher','Lawyer','Teacher'],\n",
    "      'year': [2017, 2017, 2017, 2017, 2017],\n",
    "      'salary': [40000, 24000, 31000, 20000, 30000]  \n",
    "    }\n",
    " \n",
    "frame = pd.DataFrame(d, columns=['name','occupation'])\n",
    "print(frame)"
   ]
  },
  {
   "cell_type": "code",
   "execution_count": 9,
   "metadata": {},
   "outputs": [
    {
     "name": "stdout",
     "output_type": "stream",
     "text": [
      "          name  occupation  salary  year\n",
      "Index1     Bob      Lawyer   40000  2017\n",
      "Index2    Bart  Programmer   24000  2017\n",
      "Index3   Bobby     Teacher   31000  2017\n",
      "Index4   David      Lawyer   20000  2017\n",
      "Index5  Muster     Teacher   30000  2017\n"
     ]
    }
   ],
   "source": [
    "df = pd.DataFrame(d, index = ['Index1', 'Index2', 'Index3', 'Index4', 'Index5'])\n",
    " \n",
    "print(df)"
   ]
  },
  {
   "cell_type": "code",
   "execution_count": 10,
   "metadata": {},
   "outputs": [
    {
     "name": "stdout",
     "output_type": "stream",
     "text": [
      "          name occupation  salary  year\n",
      "Index1     Bob     Lawyer   40000  2017\n",
      "Index3   Bobby    Teacher   31000  2017\n",
      "Index5  Muster    Teacher   30000  2017\n"
     ]
    }
   ],
   "source": [
    "df_filtered = df.query('salary>=30000')\n",
    "print(df_filtered)"
   ]
  },
  {
   "cell_type": "code",
   "execution_count": 65,
   "metadata": {},
   "outputs": [
    {
     "name": "stdout",
     "output_type": "stream",
     "text": [
      "          name occupation  salary  year\n",
      "Index3   Bobby    Teacher   31000  2017\n",
      "Index5  Muster    Teacher   30000  2017\n"
     ]
    }
   ],
   "source": [
    "df_filtered = df[(df.occupation == 'Teacher') & (df.year == 2017)]\n",
    "print(df_filtered)"
   ]
  },
  {
   "cell_type": "code",
   "execution_count": 12,
   "metadata": {},
   "outputs": [
    {
     "name": "stdout",
     "output_type": "stream",
     "text": [
      "            name\n",
      "occupation      \n",
      "Lawyer         2\n",
      "Programmer     1\n",
      "Teacher        2\n"
     ]
    }
   ],
   "source": [
    "df2 = df.groupby([\"occupation\"])[['name']].count()\n",
    "print(df2)"
   ]
  },
  {
   "cell_type": "code",
   "execution_count": 66,
   "metadata": {},
   "outputs": [
    {
     "data": {
      "image/png": "[encoded data removed]",
      "text/plain": [
       "<matplotlib.figure.Figure at 0xe71d18b0f0>"
      ]
     },
     "metadata": {},
     "output_type": "display_data"
    }
   ],
   "source": [
    "# plot data\n",
    "colors = ['yellowgreen', 'gold', 'lightskyblue', 'lightcoral','red','green','blue','orange','white','brown']\n",
    "df['occupation'].value_counts().plot(kind='pie',title='Occupation',colors=colors)\n",
    "plt.show()"
   ]
  },
  {
   "cell_type": "code",
   "execution_count": 14,
   "metadata": {
    "collapsed": true
   },
   "outputs": [],
   "source": [
    "df3 = df.replace('NA()',0)"
   ]
  },
  {
   "cell_type": "markdown",
   "metadata": {},
   "source": [
    "### Merge, join, and concatenate¶"
   ]
  },
  {
   "cell_type": "code",
   "execution_count": 15,
   "metadata": {},
   "outputs": [
    {
     "name": "stdout",
     "output_type": "stream",
     "text": [
      "             name  occupation promotion  salary  year\n",
      "x Index1      Bob      Lawyer       NaN   40000  2017\n",
      "  Index2     Bart  Programmer       NaN   24000  2017\n",
      "  Index3    Bobby     Teacher       NaN   31000  2017\n",
      "  Index4    David      Lawyer       NaN   20000  2017\n",
      "  Index5  Muster1     Teacher       NaN   30000  2017\n",
      "y Index1      Bob      Lawyer         y   20000  2018\n",
      "  Index2     Bart  Programmer         y   30000  2018\n",
      "  Index3    Bobby     Teacher         n   41000  2018\n",
      "  Index4    David      Lawyer         n   30000  2018\n",
      "  Index5  Muster2     Teacher         y   20000  2018\n"
     ]
    }
   ],
   "source": [
    "d1 = { 'name': ['Bob','Bart','Bobby','David','Muster1'],\n",
    "      'occupation': ['Lawyer','Programmer','Teacher','Lawyer','Teacher'],\n",
    "      'year': [2017, 2017, 2017, 2017, 2017],\n",
    "      'salary': [40000, 24000, 31000, 20000, 30000]  \n",
    "    }\n",
    "   \n",
    "\n",
    "d2 = { 'name': ['Bob','Bart','Bobby','David','Muster2'],\n",
    "      'occupation': ['Lawyer','Programmer','Teacher','Lawyer','Teacher'],\n",
    "      'year': [2018, 2018, 2018, 2018, 2018],\n",
    "      'salary': [20000, 30000, 41000, 30000, 20000],\n",
    "      'promotion':['y', 'y', 'n', 'n','y']\n",
    "    }\n",
    "df1 = pd.DataFrame(d1, index = ['Index1', 'Index2', 'Index3', 'Index4', 'Index5'])\n",
    "df2 = pd.DataFrame(d2, index = ['Index1', 'Index2', 'Index3', 'Index4', 'Index5'])\n",
    "frames = [df1, df2]\n",
    "\n",
    "result = pd.concat(frames,keys=['x', 'y'])\n",
    "\n",
    "print(result)"
   ]
  },
  {
   "cell_type": "code",
   "execution_count": 16,
   "metadata": {},
   "outputs": [
    {
     "data": {
      "text/html": [
       "<div>\n",
       "<style>\n",
       "    .dataframe thead tr:only-child th {\n",
       "        text-align: right;\n",
       "    }\n",
       "\n",
       "    .dataframe thead th {\n",
       "        text-align: left;\n",
       "    }\n",
       "\n",
       "    .dataframe tbody tr th {\n",
       "        vertical-align: top;\n",
       "    }\n",
       "</style>\n",
       "<table border=\"1\" class=\"dataframe\">\n",
       "  <thead>\n",
       "    <tr style=\"text-align: right;\">\n",
       "      <th></th>\n",
       "      <th>name</th>\n",
       "      <th>occupation</th>\n",
       "      <th>promotion</th>\n",
       "      <th>salary</th>\n",
       "      <th>year</th>\n",
       "    </tr>\n",
       "  </thead>\n",
       "  <tbody>\n",
       "    <tr>\n",
       "      <th>Index1</th>\n",
       "      <td>Bob</td>\n",
       "      <td>Lawyer</td>\n",
       "      <td>y</td>\n",
       "      <td>20000</td>\n",
       "      <td>2018</td>\n",
       "    </tr>\n",
       "    <tr>\n",
       "      <th>Index2</th>\n",
       "      <td>Bart</td>\n",
       "      <td>Programmer</td>\n",
       "      <td>y</td>\n",
       "      <td>30000</td>\n",
       "      <td>2018</td>\n",
       "    </tr>\n",
       "    <tr>\n",
       "      <th>Index3</th>\n",
       "      <td>Bobby</td>\n",
       "      <td>Teacher</td>\n",
       "      <td>n</td>\n",
       "      <td>41000</td>\n",
       "      <td>2018</td>\n",
       "    </tr>\n",
       "    <tr>\n",
       "      <th>Index4</th>\n",
       "      <td>David</td>\n",
       "      <td>Lawyer</td>\n",
       "      <td>n</td>\n",
       "      <td>30000</td>\n",
       "      <td>2018</td>\n",
       "    </tr>\n",
       "    <tr>\n",
       "      <th>Index5</th>\n",
       "      <td>Muster2</td>\n",
       "      <td>Teacher</td>\n",
       "      <td>y</td>\n",
       "      <td>20000</td>\n",
       "      <td>2018</td>\n",
       "    </tr>\n",
       "  </tbody>\n",
       "</table>\n",
       "</div>"
      ],
      "text/plain": [
       "           name  occupation promotion  salary  year\n",
       "Index1      Bob      Lawyer         y   20000  2018\n",
       "Index2     Bart  Programmer         y   30000  2018\n",
       "Index3    Bobby     Teacher         n   41000  2018\n",
       "Index4    David      Lawyer         n   30000  2018\n",
       "Index5  Muster2     Teacher         y   20000  2018"
      ]
     },
     "execution_count": 16,
     "metadata": {},
     "output_type": "execute_result"
    }
   ],
   "source": [
    "result.loc['y']\n"
   ]
  },
  {
   "cell_type": "code",
   "execution_count": 17,
   "metadata": {},
   "outputs": [
    {
     "name": "stdout",
     "output_type": "stream",
     "text": [
      "           name  occupation  salary  year     name  occupation promotion  \\\n",
      "Index1      Bob      Lawyer   40000  2017      Bob      Lawyer         y   \n",
      "Index2     Bart  Programmer   24000  2017     Bart  Programmer         y   \n",
      "Index3    Bobby     Teacher   31000  2017    Bobby     Teacher         n   \n",
      "Index4    David      Lawyer   20000  2017    David      Lawyer         n   \n",
      "Index5  Muster1     Teacher   30000  2017  Muster2     Teacher         y   \n",
      "\n",
      "        salary  year  \n",
      "Index1   20000  2018  \n",
      "Index2   30000  2018  \n",
      "Index3   41000  2018  \n",
      "Index4   30000  2018  \n",
      "Index5   20000  2018  \n"
     ]
    }
   ],
   "source": [
    "#default join='outer' behavior\n",
    "result_joinouter = pd.concat(frames,axis=1)\n",
    "print(result_joinouter)"
   ]
  },
  {
   "cell_type": "code",
   "execution_count": 18,
   "metadata": {},
   "outputs": [
    {
     "name": "stdout",
     "output_type": "stream",
     "text": [
      "           name  occupation  salary  year\n",
      "Index1      Bob      Lawyer   40000  2017\n",
      "Index2     Bart  Programmer   24000  2017\n",
      "Index3    Bobby     Teacher   31000  2017\n",
      "Index4    David      Lawyer   20000  2017\n",
      "Index5  Muster1     Teacher   30000  2017\n",
      "Index1      Bob      Lawyer   20000  2018\n",
      "Index2     Bart  Programmer   30000  2018\n",
      "Index3    Bobby     Teacher   41000  2018\n",
      "Index4    David      Lawyer   30000  2018\n",
      "Index5  Muster2     Teacher   20000  2018\n"
     ]
    }
   ],
   "source": [
    "result_joininner = pd.concat(frames,join='inner')\n",
    "print(result_joininner)"
   ]
  },
  {
   "cell_type": "code",
   "execution_count": 19,
   "metadata": {},
   "outputs": [
    {
     "name": "stdout",
     "output_type": "stream",
     "text": [
      "           name  occupation promotion  salary  year\n",
      "Index1      Bob      Lawyer       NaN   40000  2017\n",
      "Index2     Bart  Programmer       NaN   24000  2017\n",
      "Index3    Bobby     Teacher       NaN   31000  2017\n",
      "Index4    David      Lawyer       NaN   20000  2017\n",
      "Index5  Muster1     Teacher       NaN   30000  2017\n",
      "Index1      Bob      Lawyer         y   20000  2018\n",
      "Index2     Bart  Programmer         y   30000  2018\n",
      "Index3    Bobby     Teacher         n   41000  2018\n",
      "Index4    David      Lawyer         n   30000  2018\n",
      "Index5  Muster2     Teacher         y   20000  2018\n"
     ]
    }
   ],
   "source": [
    "result_append = df1.append(df2)\n",
    "print(result_append )"
   ]
  },
  {
   "cell_type": "code",
   "execution_count": 20,
   "metadata": {},
   "outputs": [
    {
     "name": "stdout",
     "output_type": "stream",
     "text": [
      "    name  occupation  salary_x  year_x promotion  salary_y  year_y\n",
      "0    Bob      Lawyer     40000    2017         y     20000    2018\n",
      "1   Bart  Programmer     24000    2017         y     30000    2018\n",
      "2  Bobby     Teacher     31000    2017         n     41000    2018\n",
      "3  David      Lawyer     20000    2017         n     30000    2018\n"
     ]
    }
   ],
   "source": [
    "result_merge = pd.merge(df1, df2, on=['name', 'occupation'])\n",
    "print(result_merge)"
   ]
  },
  {
   "cell_type": "code",
   "execution_count": 21,
   "metadata": {},
   "outputs": [
    {
     "name": "stdout",
     "output_type": "stream",
     "text": [
      "      name  occupation  salary_x  year_x promotion  salary_y  year_y\n",
      "0      Bob      Lawyer     40000    2017         y   20000.0  2018.0\n",
      "1     Bart  Programmer     24000    2017         y   30000.0  2018.0\n",
      "2    Bobby     Teacher     31000    2017         n   41000.0  2018.0\n",
      "3    David      Lawyer     20000    2017         n   30000.0  2018.0\n",
      "4  Muster1     Teacher     30000    2017       NaN       NaN     NaN\n"
     ]
    }
   ],
   "source": [
    "result_merge = pd.merge(df1, df2,how='left', on=['name', 'occupation'])\n",
    "print(result_merge)"
   ]
  },
  {
   "cell_type": "code",
   "execution_count": 22,
   "metadata": {},
   "outputs": [
    {
     "name": "stdout",
     "output_type": "stream",
     "text": [
      "      name  occupation  salary_x  year_x promotion  salary_y  year_y\n",
      "0      Bob      Lawyer   40000.0  2017.0         y     20000    2018\n",
      "1     Bart  Programmer   24000.0  2017.0         y     30000    2018\n",
      "2    Bobby     Teacher   31000.0  2017.0         n     41000    2018\n",
      "3    David      Lawyer   20000.0  2017.0         n     30000    2018\n",
      "4  Muster2     Teacher       NaN     NaN         y     20000    2018\n"
     ]
    }
   ],
   "source": [
    "result_merge = pd.merge(df1, df2,how='right', on=['name', 'occupation'])\n",
    "print(result_merge)"
   ]
  },
  {
   "cell_type": "code",
   "execution_count": 23,
   "metadata": {},
   "outputs": [
    {
     "name": "stdout",
     "output_type": "stream",
     "text": [
      "      name  occupation  salary_x  year_x promotion  salary_y  year_y\n",
      "0      Bob      Lawyer   40000.0  2017.0         y   20000.0  2018.0\n",
      "1     Bart  Programmer   24000.0  2017.0         y   30000.0  2018.0\n",
      "2    Bobby     Teacher   31000.0  2017.0         n   41000.0  2018.0\n",
      "3    David      Lawyer   20000.0  2017.0         n   30000.0  2018.0\n",
      "4  Muster1     Teacher   30000.0  2017.0       NaN       NaN     NaN\n",
      "5  Muster2     Teacher       NaN     NaN         y   20000.0  2018.0\n"
     ]
    }
   ],
   "source": [
    "result_merge = pd.merge(df1, df2,how='outer', on=['name', 'occupation'])\n",
    "print(result_merge)"
   ]
  },
  {
   "cell_type": "code",
   "execution_count": 24,
   "metadata": {},
   "outputs": [
    {
     "name": "stdout",
     "output_type": "stream",
     "text": [
      "    name  occupation  salary_x  year_x promotion  salary_y  year_y _merge\n",
      "0    Bob      Lawyer     40000    2017         y     20000    2018   both\n",
      "1   Bart  Programmer     24000    2017         y     30000    2018   both\n",
      "2  Bobby     Teacher     31000    2017         n     41000    2018   both\n",
      "3  David      Lawyer     20000    2017         n     30000    2018   both\n"
     ]
    }
   ],
   "source": [
    "result_merge = pd.merge(df1, df2, on=['name', 'occupation'],how='inner',indicator=True)\n",
    "print(result_merge)"
   ]
  },
  {
   "cell_type": "markdown",
   "metadata": {},
   "source": [
    "## Dealing with Missing Values"
   ]
  },
  {
   "cell_type": "code",
   "execution_count": 41,
   "metadata": {},
   "outputs": [
    {
     "name": "stdout",
     "output_type": "stream",
     "text": [
      "      name  occupation  salary_x  year_x promotion  salary_y  year_y\n",
      "0      Bob      Lawyer   40000.0  2017.0         y   20000.0  2018.0\n",
      "1     Bart  Programmer   24000.0  2017.0         y   30000.0  2018.0\n",
      "2    Bobby     Teacher   31000.0  2017.0         n   41000.0  2018.0\n",
      "3    David      Lawyer   20000.0  2017.0         n   30000.0  2018.0\n",
      "4  Muster1     Teacher   30000.0  2017.0       NaN       NaN     NaN\n",
      "5  Muster2     Teacher       NaN     NaN         y   20000.0  2018.0\n"
     ]
    }
   ],
   "source": [
    "result_missing = pd.merge(df1, df2,how='outer', on=['name', 'occupation'])\n",
    "print(result_missing)"
   ]
  },
  {
   "cell_type": "code",
   "execution_count": 42,
   "metadata": {},
   "outputs": [
    {
     "name": "stdout",
     "output_type": "stream",
     "text": [
      "      name  occupation  salary_x  year_x promotion  salary_y  year_y\n",
      "0      Bob      Lawyer   40000.0  2017.0         y   20000.0  2018.0\n",
      "1     Bart  Programmer   24000.0  2017.0         y   30000.0  2018.0\n",
      "2    Bobby     Teacher   31000.0  2017.0         n   41000.0  2018.0\n",
      "3    David      Lawyer   20000.0  2017.0         n   30000.0  2018.0\n",
      "4  Muster1     Teacher   30000.0  2017.0       NaN       NaN     NaN\n",
      "5  Muster2     Teacher       NaN     NaN         y   20000.0  2018.0\n"
     ]
    }
   ],
   "source": [
    "# Drop the columns where all elements are missing values: \n",
    "result_missing_1=result_missing.dropna(axis=1, how='all') \n",
    "print(result_missing_1)\n"
   ]
  },
  {
   "cell_type": "code",
   "execution_count": 43,
   "metadata": {},
   "outputs": [
    {
     "name": "stdout",
     "output_type": "stream",
     "text": [
      "      name  occupation\n",
      "0      Bob      Lawyer\n",
      "1     Bart  Programmer\n",
      "2    Bobby     Teacher\n",
      "3    David      Lawyer\n",
      "4  Muster1     Teacher\n",
      "5  Muster2     Teacher\n"
     ]
    }
   ],
   "source": [
    "# Drop the columns where any of the elements are missing values \n",
    "result_missing_2=result_missing.dropna(axis=1, how='any')\n",
    "print(result_missing_2)"
   ]
  },
  {
   "cell_type": "code",
   "execution_count": 67,
   "metadata": {},
   "outputs": [
    {
     "name": "stdout",
     "output_type": "stream",
     "text": [
      "      name  occupation  salary_x  year_x promotion  salary_y  year_y\n",
      "0      Bob      Lawyer   40000.0  2017.0         y   20000.0  2018.0\n",
      "1     Bart  Programmer   24000.0  2017.0         y   30000.0  2018.0\n",
      "2    Bobby     Teacher   31000.0  2017.0         n   41000.0  2018.0\n",
      "3    David      Lawyer   20000.0  2017.0         n   30000.0  2018.0\n",
      "4  Muster1     Teacher   30000.0  2017.0       NaN       NaN     NaN\n",
      "5  Muster2     Teacher       NaN     NaN         y   20000.0  2018.0\n"
     ]
    }
   ],
   "source": [
    "# Keep only the rows which contain 2 missing values maximum \n",
    "result_missing_3=result_missing.dropna(thresh=2) \n",
    "print(result_missing_3)"
   ]
  },
  {
   "cell_type": "code",
   "execution_count": 45,
   "metadata": {},
   "outputs": [
    {
     "name": "stdout",
     "output_type": "stream",
     "text": [
      "      name  occupation  salary_x  year_x promotion  salary_y  year_y\n",
      "0      Bob      Lawyer   40000.0  2017.0         y   20000.0  2018.0\n",
      "1     Bart  Programmer   24000.0  2017.0         y   30000.0  2018.0\n",
      "2    Bobby     Teacher   31000.0  2017.0         n   41000.0  2018.0\n",
      "3    David      Lawyer   20000.0  2017.0         n   30000.0  2018.0\n",
      "4  Muster1     Teacher   30000.0  2017.0       NaN   28200.0  2018.0\n",
      "5  Muster2     Teacher   29000.0  2017.0         y   20000.0  2018.0\n"
     ]
    }
   ],
   "source": [
    "# Fill all missing values with the mean of the particular column \n",
    "result_missing_4=result_missing.fillna(result_missing.mean()) \n",
    "print(result_missing_4)"
   ]
  },
  {
   "cell_type": "code",
   "execution_count": 49,
   "metadata": {},
   "outputs": [
    {
     "name": "stdout",
     "output_type": "stream",
     "text": [
      "      name  occupation  salary_x   year_x promotion  salary_y   year_y\n",
      "0      Bob      Lawyer   40000.0   2017.0         y   20000.0   2018.0\n",
      "1     Bart  Programmer   24000.0   2017.0         y   30000.0   2018.0\n",
      "2    Bobby     Teacher   31000.0   2017.0         n   41000.0   2018.0\n",
      "3    David      Lawyer   20000.0   2017.0         n   30000.0   2018.0\n",
      "4  Muster1     Teacher   30000.0   2017.0     30000   30000.0  30000.0\n",
      "5  Muster2     Teacher   30000.0  30000.0         y   20000.0   2018.0\n"
     ]
    }
   ],
   "source": [
    "# Fill any missing value in column 'A' with the column median \n",
    "result_missing_5=result_missing.fillna(result_missing['salary_x'].median()) \n",
    "print(result_missing_5) \n"
   ]
  },
  {
   "cell_type": "markdown",
   "metadata": {},
   "source": [
    "## Outlier Detection"
   ]
  },
  {
   "cell_type": "code",
   "execution_count": 68,
   "metadata": {},
   "outputs": [
    {
     "data": {
      "image/png": "[encoded data removed]",
      "text/plain": [
       "<matplotlib.figure.Figure at 0xe71d1332e8>"
      ]
     },
     "metadata": {},
     "output_type": "display_data"
    }
   ],
   "source": [
    "import numpy  as np\n",
    "import matplotlib.pyplot as plt\n",
    "\n",
    "arr = [10, 386, 479, 627, 20, 523, 482, 483, 542, 699, 535, 617, 577, 471, 615, 583, 441, 562, 563, 527, 453, 530, 433, 541, 585, 704, 443, 569, 430, 637, 331, 511, 552, 496, 484, 566, 554, 472, 335, 440, 579, 341, 545, 615, 548, 604, 439, 556, 442, 461, 624, 611, 444, 578, 405, 487, 490, 496, 398, 512, 422, 455, 449, 432, 607, 679, 434, 597, 639, 565, 415, 486, 668, 414, 665, 763, 557, 304, 404, 454, 689, 610, 483, 441, 657, 590, 492, 476, 437, 483, 529, 363, 711, 543] \n",
    "plt.plot(arr, 'r--')\n",
    "plt.show()\n"
   ]
  },
  {
   "cell_type": "code",
   "execution_count": 69,
   "metadata": {},
   "outputs": [
    {
     "data": {
      "image/png": "[encoded data removed]",
      "text/plain": [
       "<matplotlib.figure.Figure at 0xe71b493470>"
      ]
     },
     "metadata": {},
     "output_type": "display_data"
    }
   ],
   "source": [
    "elements = np.array(arr) \n",
    "\n",
    " \n",
    "mean = np.mean(elements, axis=0) \n",
    "sd = np.std(elements, axis=0) \n",
    "\n",
    " \n",
    "final_list = [x for x in arr if (x > mean - 2 * sd)] \n",
    "final_list = [x for x in final_list if (x < mean + 2 * sd)] \n",
    "\n",
    "plt.plot( final_list, 'r--')\n",
    "plt.show()\n"
   ]
  },
  {
   "cell_type": "code",
   "execution_count": 70,
   "metadata": {},
   "outputs": [
    {
     "data": {
      "image/png": "[encoded data removed]",
      "text/plain": [
       "<matplotlib.figure.Figure at 0xe71b48f6a0>"
      ]
     },
     "metadata": {},
     "output_type": "display_data"
    }
   ],
   "source": [
    "plt.plot(arr, 'r-')\n",
    "plt.plot( final_list, 'g-')\n",
    "plt.show()"
   ]
  },
  {
   "cell_type": "code",
   "execution_count": 72,
   "metadata": {},
   "outputs": [
    {
     "data": {
      "image/png": "[encoded data removed]",
      "text/plain": [
       "<matplotlib.figure.Figure at 0xe71c0c9160>"
      ]
     },
     "metadata": {},
     "output_type": "display_data"
    }
   ],
   "source": [
    "final_list_raus = [x for x in arr if (x < mean - 2 * sd)] \n",
    "final_list_raus = [x for x in final_list if (x > mean + 2 * sd)]\n",
    "plt.plot( final_list_raus, 'r--')\n",
    "plt.show()"
   ]
  },
  {
   "cell_type": "code",
   "execution_count": null,
   "metadata": {
    "collapsed": true
   },
   "outputs": [],
   "source": []
  }
 ],
 "metadata": {
  "kernelspec": {
   "display_name": "tfdeeplearning",
   "language": "python",
   "name": "tfdeeplearning"
  },
  "language_info": {
   "codemirror_mode": {
    "name": "ipython",
    "version": 3
   },
   "file_extension": ".py",
   "mimetype": "text/x-python",
   "name": "python",
   "nbconvert_exporter": "python",
   "pygments_lexer": "ipython3",
   "version": "3.6.3"
  }
 },
 "nbformat": 4,
 "nbformat_minor": 2
}
