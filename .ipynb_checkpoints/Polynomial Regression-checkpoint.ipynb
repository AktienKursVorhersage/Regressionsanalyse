{
 "cells": [
  {
   "cell_type": "markdown",
   "metadata": {},
   "source": [
    "# Daten Importieren"
   ]
  },
  {
   "cell_type": "code",
   "execution_count": 1,
   "metadata": {},
   "outputs": [],
   "source": [
    "import pandas as pd"
   ]
  },
  {
   "cell_type": "code",
   "execution_count": 2,
   "metadata": {},
   "outputs": [],
   "source": [
    "# Datensatz der VW-Aktienkurshistorie über Pandas laden\n",
    "dataset = pd.read_csv(\"VOW3.DE_max.csv\")"
   ]
  },
  {
   "cell_type": "code",
   "execution_count": 3,
   "metadata": {},
   "outputs": [],
   "source": [
    "# Die neusten 90 Einträge des Datensatzes übernehmen\n",
    "#dataset = dataset.tail(90)"
   ]
  },
  {
   "cell_type": "markdown",
   "metadata": {},
   "source": [
    "# Polynomiale Regressionsanalyse"
   ]
  },
  {
   "cell_type": "markdown",
   "metadata": {},
   "source": [
    "## Imports"
   ]
  },
  {
   "cell_type": "code",
   "execution_count": 4,
   "metadata": {},
   "outputs": [],
   "source": [
    "from sklearn.metrics import mean_squared_error, mean_absolute_error, r2_score\n",
    "from sklearn import datasets, linear_model, model_selection\n",
    "from sklearn.pipeline import Pipeline\n",
    "from sklearn.preprocessing import PolynomialFeatures\n",
    "import time\n",
    "import datetime\n",
    "import matplotlib.pyplot as plt\n",
    "import numpy as np"
   ]
  },
  {
   "cell_type": "markdown",
   "metadata": {},
   "source": [
    "## Datenaufbreitung (Daten konvertieren und in numpy-Arrays laden)"
   ]
  },
  {
   "cell_type": "code",
   "execution_count": 5,
   "metadata": {},
   "outputs": [],
   "source": [
    "# Deklaration der zu befüllenden Arrays\n",
    "stocks_X = []\n",
    "stocks_Y = []\n",
    "\n",
    "# Datenaufbereitung\n",
    "for index, row in dataset.iterrows():\n",
    "    # Konvertierung des Datums in passendes Format\n",
    "    element = datetime.datetime.strptime(row['Date'],\"%Y-%m-%d\")\n",
    "    timestamp = datetime.datetime.timestamp(element)\n",
    "    #Abspeichern des kovertierten Datums und dem Preis in neuen Arrays\n",
    "    stocks_X.append([timestamp]) \n",
    "    stocks_Y.append([row['Close']])\n",
    "\n",
    "# Abspeichern der Daten in einem numpy-Array\n",
    "stocks_X = np.array(stocks_X)\n",
    "stocks_Y = np.array(stocks_Y)\n",
    "\n",
    "# Letzte 30 Einträge zum Testen in separates Array\n",
    "stocks_X_test = stocks_X[-1161:]\n",
    "stocks_Y_test = stocks_Y[-1161:]\n",
    "\n",
    "# Restliche Einträge zum Trainieren in separates Array\n",
    "stocks_X_train = stocks_X[:-1161]\n",
    "stocks_Y_train = stocks_Y[:-1161]"
   ]
  },
  {
   "cell_type": "markdown",
   "metadata": {},
   "source": [
    "## Regression"
   ]
  },
  {
   "cell_type": "code",
   "execution_count": 6,
   "metadata": {},
   "outputs": [],
   "source": [
    "# Setzen der Polynomial-Features\n",
    "poly_features = PolynomialFeatures(degree=2, include_bias=False)\n",
    "\n",
    "# Vorbereiten der Polynomialen Regression\n",
    "regr = linear_model.LinearRegression()\n",
    "pipeline = Pipeline([(\"polynomial_features\", poly_features),\n",
    "                     (\"linear_regression\", regr)])\n",
    "pipeline.fit(stocks_X_train, stocks_Y_train)\n",
    "\n",
    "# Ausführen der Polynomialen Regression\n",
    "stocks_Y_pred = pipeline.predict(stocks_X_test)\n",
    "stocks_Y_pred_train = pipeline.predict(stocks_X_train)"
   ]
  },
  {
   "cell_type": "markdown",
   "metadata": {},
   "source": [
    "## Plot"
   ]
  },
  {
   "cell_type": "code",
   "execution_count": 7,
   "metadata": {
    "scrolled": true
   },
   "outputs": [
    {
     "data": {
      "image/png": "[encoded data removed]",
      "text/plain": [
       "<Figure size 432x288 with 1 Axes>"
      ]
     },
     "metadata": {
      "needs_background": "light"
     },
     "output_type": "display_data"
    }
   ],
   "source": [
    "%matplotlib inline\n",
    "\n",
    "# Plotten der Datenpunkte\n",
    "plt.scatter(stocks_X, stocks_Y, 10, color='black', alpha=1)\n",
    "\n",
    "# Plotten der Regressionsgerade der Trainingsdaten in grün\n",
    "plt.plot(stocks_X_train, stocks_Y_pred_train, color='green', linewidth=2.5)\n",
    "\n",
    "# Plotten der Vorhersage in rot\n",
    "plt.plot(stocks_X_test, stocks_Y_pred, color='red', linewidth=2.5)\n",
    "    \n",
    "# Wertebereich anpassen\n",
    "plt.xlim(min(stocks_X),max(stocks_X))\n",
    "plt.ylim(min(stocks_Y),max(stocks_Y))\n",
    "\n",
    "# Achsenbeschriftung\n",
    "plt.ylabel(\"Preis\")\n",
    "plt.xlabel(\"Zeit\")\n",
    "\n",
    "# Ausgabe des Plots\n",
    "plt.show()"
   ]
  },
  {
   "cell_type": "markdown",
   "metadata": {},
   "source": [
    "## Evaluation"
   ]
  },
  {
   "cell_type": "markdown",
   "metadata": {},
   "source": [
    "### Mittlerer absoluter Fehler"
   ]
  },
  {
   "cell_type": "code",
   "execution_count": 8,
   "metadata": {},
   "outputs": [
    {
     "name": "stdout",
     "output_type": "stream",
     "text": [
      "Mean squared error: 730.269\n"
     ]
    }
   ],
   "source": [
    "print(\"Mean squared error: %.3f\" % (mean_squared_error(stocks_Y_train, stocks_Y_pred_train)))"
   ]
  },
  {
   "cell_type": "markdown",
   "metadata": {},
   "source": [
    "### Mittlere quatratische Abweichung"
   ]
  },
  {
   "cell_type": "code",
   "execution_count": 9,
   "metadata": {},
   "outputs": [
    {
     "name": "stdout",
     "output_type": "stream",
     "text": [
      "Mean absolute error: 19.820\n"
     ]
    }
   ],
   "source": [
    "print(\"Mean absolute error: %.3f\" % (mean_absolute_error(stocks_Y_train, stocks_Y_pred_train)))"
   ]
  },
  {
   "cell_type": "markdown",
   "metadata": {},
   "source": [
    "### Bestimmtheitsmaß"
   ]
  },
  {
   "cell_type": "code",
   "execution_count": 10,
   "metadata": {},
   "outputs": [
    {
     "name": "stdout",
     "output_type": "stream",
     "text": [
      "R^2: 0.782\n"
     ]
    }
   ],
   "source": [
    "print(\"R^2: %.3f\" % (r2_score(stocks_Y_train, stocks_Y_pred_train)))"
   ]
  },
  {
   "cell_type": "markdown",
   "metadata": {},
   "source": [
    "# Vergleich verschiedener Ansätze"
   ]
  },
  {
   "cell_type": "markdown",
   "metadata": {},
   "source": [
    "|     | Lineare Regression | Polynomiale Regression | Zeitreihenanalyse (Tagesabhängig) | Zeitreihenanalyse (Monatsabhängig) |\n",
    "|:---|:---:|:---:|:---:|:---:|\n",
    "| **MSE** | 959,436            | 730,269                | 8,765                             | 120,847                            |\n",
    "| **MAE** | 25,832             | 19,820                 | 2,041                             | 8,102                              |\n",
    "| **R2**  | 0,714              | 0,782                  | 0,972                             | 0,579                              |"
   ]
  },
  {
   "cell_type": "code",
   "execution_count": null,
   "metadata": {},
   "outputs": [],
   "source": []
  }
 ],
 "metadata": {
  "kernelspec": {
   "display_name": "Python 3",
   "language": "python",
   "name": "python3"
  },
  "language_info": {
   "codemirror_mode": {
    "name": "ipython",
    "version": 3
   },
   "file_extension": ".py",
   "mimetype": "text/x-python",
   "name": "python",
   "nbconvert_exporter": "python",
   "pygments_lexer": "ipython3",
   "version": "3.8.5"
  }
 },
 "nbformat": 4,
 "nbformat_minor": 4
}
