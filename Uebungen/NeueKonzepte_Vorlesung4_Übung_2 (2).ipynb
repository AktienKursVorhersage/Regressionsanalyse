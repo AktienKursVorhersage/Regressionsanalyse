{
 "cells": [
  {
   "cell_type": "markdown",
   "metadata": {},
   "source": [
    "# Vorlesung 4: Crashcourse - Übungen"
   ]
  },
  {
   "cell_type": "markdown",
   "metadata": {},
   "source": [
    "** 1) Importiere Numpy, Pandas und Matplotlib (Visualisierung auf inline setzen)**"
   ]
  },
  {
   "cell_type": "markdown",
   "metadata": {},
   "source": [
    "** 2) Setze Numpy Random auf 101 **"
   ]
  },
  {
   "cell_type": "markdown",
   "metadata": {},
   "source": [
    "** 3) Erstelle eine Numpy Matrix mit 100 Zeilen und 5 Spalten mit zufälligen Zahlene (Integer) von 1 bis 100. **"
   ]
  },
  {
   "cell_type": "markdown",
   "metadata": {},
   "source": [
    "** 4) Plotte mithilfe von plt.imshow die Numpy Matrix mit einer Farblegende und füge einen Titel hinzu.**"
   ]
  },
  {
   "cell_type": "markdown",
   "metadata": {},
   "source": [
    "** 5) Verwende pd.DataFrame(), um den Numpy Array als Dataframe einzulesen (Pandas benennt die Spalten automatisch mit 0 bis 4)**"
   ]
  },
  {
   "cell_type": "markdown",
   "metadata": {},
   "source": [
    "** 6) Erstelle einen Scatterplot mithilfe von pandas. Stelle Spalte 0 der Spalte 1 gegenüber. **"
   ]
  },
  {
   "cell_type": "markdown",
   "metadata": {},
   "source": [
    "** 7) Skaliere die Daten (alle Zeilen, aber nur die erste Spalte) mithilfe von scikit-learn, sodass das Minimum = 0 und das Maximum =1 liegen.**"
   ]
  },
  {
   "cell_type": "markdown",
   "metadata": {},
   "source": [
    "** 8) Nutze deinen Dataframe und benenne die pandas-Spalten wie folgt um ([df.columns = [...]]): ['f1','f2','f3','f4','label']. Führe einen train/test Split mit scikitlearn durch.**"
   ]
  }
 ],
 "metadata": {
  "kernelspec": {
   "display_name": "Python 3",
   "language": "python",
   "name": "python3"
  },
  "language_info": {
   "codemirror_mode": {
    "name": "ipython",
    "version": 3
   },
   "file_extension": ".py",
   "mimetype": "text/x-python",
   "name": "python",
   "nbconvert_exporter": "python",
   "pygments_lexer": "ipython3",
   "version": "3.6.8"
  }
 },
 "nbformat": 4,
 "nbformat_minor": 2
}
