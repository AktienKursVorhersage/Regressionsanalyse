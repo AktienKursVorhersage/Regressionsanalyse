{
 "cells": [
  {
   "cell_type": "markdown",
   "metadata": {},
   "source": [
    "# Einleitung"
   ]
  },
  {
   "cell_type": "markdown",
   "metadata": {},
   "source": [
    "Im Rahmen unserer Gruppe haben wir uns dazu entschieden, einen Aktienkurs-Verlauf vorherzusagen."
   ]
  },
  {
   "cell_type": "markdown",
   "metadata": {},
   "source": [
    "__Warum die VW-Aktie?__"
   ]
  },
  {
   "cell_type": "markdown",
   "metadata": {},
   "source": [
    "- DAX-Konzern\n",
    "- passender Kursverlauf mit Höhen und Tiefen\n",
    "- recht stabile Entwicklung"
   ]
  },
  {
   "cell_type": "markdown",
   "metadata": {},
   "source": [
    "__Auswahl der Data-Science-Methoden:__"
   ]
  },
  {
   "cell_type": "markdown",
   "metadata": {},
   "source": [
    "1. Kategorie vorhersagen? - nein\n",
    "2. Quantität vorhersagen? - ja\n",
    "\n",
    "--> Regressionsanalyse"
   ]
  },
  {
   "cell_type": "markdown",
   "metadata": {},
   "source": [
    "Bei der Umsetzung haben wir uns für zwei Varianten der Regressionsanalyse entschieden:\n",
    "- Lineare Regression\n",
    "- Polynomiale Regression"
   ]
  },
  {
   "cell_type": "markdown",
   "metadata": {},
   "source": [
    "Da es sich bei einem Aktienkurs ebenfalls um Zeitreihendaten handelt, erschien uns die Zeitreihenanalyse als zusätzliche passende Methode, um eine zeitabhängige Vorhersage zu treffen. Bei der Umsetzung der Zeitreiehenanalyse fand die Analyse in zwei verschiedenen Vorhersageintervallen statt:\n",
    "- tagesabhägig\n",
    "- monatsabhängig"
   ]
  },
  {
   "cell_type": "markdown",
   "metadata": {},
   "source": [
    "# Gliederung"
   ]
  },
  {
   "cell_type": "markdown",
   "metadata": {},
   "source": [
    "1. Regression  \n",
    "    1.1 Lineare Regression  \n",
    "    1.2 Polynomiale Regression  \n",
    "2. Zeitreihenanalyse  \n",
    "    2.1 Tagesabhängig  \n",
    "    2.2 Monatsabhängig  \n",
    "3. Zusammenfassung"
   ]
  },
  {
   "cell_type": "markdown",
   "metadata": {},
   "source": [
    "# Zusammenfassung"
   ]
  },
  {
   "cell_type": "markdown",
   "metadata": {},
   "source": [
    "## Ergebnisse"
   ]
  },
  {
   "cell_type": "markdown",
   "metadata": {},
   "source": [
    "Lineare Regression        |  Polynomiale Regression\n",
    ":-------------------------:|:-------------------------:\n",
    "![Lineare Regression](img/linear.png)  |  ![Polynomiale Regression](img/poly.png)"
   ]
  },
  {
   "cell_type": "markdown",
   "metadata": {},
   "source": [
    "Zeitreihenanalyse mit Tagesvorhersage         |  Zeitreihenanalyse mit Monatsvorhersage\n",
    ":-------------------------:|:-------------------------:\n",
    "![Lineare Regression](img/zeitreihe-day.png)  |  ![Polynomiale Regression](img/zeitreihe-month.png)"
   ]
  },
  {
   "cell_type": "markdown",
   "metadata": {},
   "source": [
    "## Vergleich verschiedener Ansätze"
   ]
  },
  {
   "cell_type": "markdown",
   "metadata": {},
   "source": [
    "|     | Lineare Regression | Polynomiale Regression | Zeitreihenanalyse (Tagesabhängig) | Zeitreihenanalyse (Monatsabhängig) |\n",
    "|:---|:---:|:---:|:---:|:---:|\n",
    "| **MSE** | 959,436            | 730,269                | 8,765                             | 120,847                            |\n",
    "| **MAE** | 25,832             | 19,820                 | 2,041                             | 8,102                              |\n",
    "| **R2**  | 0,714              | 0,782                  | 0,972                             | 0,579                              |"
   ]
  }
 ],
 "metadata": {
  "kernelspec": {
   "display_name": "Python 3",
   "language": "python",
   "name": "python3"
  },
  "language_info": {
   "codemirror_mode": {
    "name": "ipython",
    "version": 3
   },
   "file_extension": ".py",
   "mimetype": "text/x-python",
   "name": "python",
   "nbconvert_exporter": "python",
   "pygments_lexer": "ipython3",
   "version": "3.8.5"
  }
 },
 "nbformat": 4,
 "nbformat_minor": 4
}
